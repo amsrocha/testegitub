{
 "cells": [
  {
   "cell_type": "markdown",
   "id": "67500506-99cc-4855-8125-c459c692f1fb",
   "metadata": {},
   "source": [
    "# Data Science Tools and Ecosystem"
   ]
  },
  {
   "cell_type": "markdown",
   "id": "8592ef54-2a1c-48e1-87e5-2cf1909f7aa2",
   "metadata": {},
   "source": [
    "In this notebook, Data Science Tools and Ecosystem are summarized."
   ]
  },
  {
   "cell_type": "markdown",
   "id": "34990465-8bf8-4f08-b6ce-5dec8bd2055f",
   "metadata": {
    "tags": []
   },
   "source": [
    "**Objectives:**\n",
    "- List popular languages for Data Science\n",
    "- Describe the components of a Data Scientist's toolkit and list various tool categories\n",
    "- List examples of the various libraries\n",
    "- Learn how to use the notebooks in JupyterLab.\n",
    "- Demonstrate proficiency in Data Science toolkit knowledge"
   ]
  },
  {
   "cell_type": "markdown",
   "id": "03ddedcd-86fb-4dd9-a2f7-3f77ebe4ca5e",
   "metadata": {},
   "source": [
    "Some of the popular languages that Data Scientists use are:\n",
    "1. Phtyon\n",
    "2. R\n",
    "3. SQL"
   ]
  },
  {
   "cell_type": "markdown",
   "id": "70930a36-4a5c-46d2-9bcf-3285ca60b2d8",
   "metadata": {},
   "source": [
    "Some of the commonly used libraries used by Data Scientists include:\n",
    "1. Pandas\n",
    "2. NumPy\n",
    "3. Matplotlib"
   ]
  },
  {
   "cell_type": "markdown",
   "id": "0016bca8-8917-45a2-b7b0-542b7224291c",
   "metadata": {
    "tags": []
   },
   "source": [
    "|Data Science Tools|\n",
    "|------|\n",
    "|Jupyter|\n",
    "|RStudio|\n",
    "|GitHub|"
   ]
  },
  {
   "cell_type": "markdown",
   "id": "660e0edb-154f-47c3-87c7-2e96e9f8f7cd",
   "metadata": {},
   "source": [
    "### Below are a few examples of evaluating arithmetic expressions in Python\n",
    "\n",
    "<p> <code>(10+2)*3</code></p>\n",
    "<p> <code>3**2</code></p>\n",
    "<p> <code>(15+5)/4</code></p>\n"
   ]
  },
  {
   "cell_type": "code",
   "execution_count": 2,
   "id": "829aed13-d1b4-4ddd-8194-0c8240708410",
   "metadata": {
    "tags": []
   },
   "outputs": [
    {
     "data": {
      "text/plain": [
       "17"
      ]
     },
     "execution_count": 2,
     "metadata": {},
     "output_type": "execute_result"
    }
   ],
   "source": [
    "#This a simple arithmetic expression to mutiply then add integers\n",
    "\n",
    "(3*4)+5"
   ]
  },
  {
   "cell_type": "code",
   "execution_count": 4,
   "id": "e89c67ed-19ad-41f2-bdd5-22633d2f0f11",
   "metadata": {
    "tags": []
   },
   "outputs": [
    {
     "name": "stdout",
     "output_type": "stream",
     "text": [
      "3.3333333333333335\n"
     ]
    }
   ],
   "source": [
    "# This will convert 200 minutes to hours by diving by 60\n",
    "\n",
    "minutes = 200\n",
    "hours = minutes/60\n",
    "print(hours)"
   ]
  },
  {
   "cell_type": "markdown",
   "id": "7d7ab11c-8298-48bf-bc11-ed1cd1a68e55",
   "metadata": {},
   "source": [
    "## Author\n",
    "Ana Rocha"
   ]
  }
 ],
 "metadata": {
  "kernelspec": {
   "display_name": "Python 3 (ipykernel)",
   "language": "python",
   "name": "python3"
  },
  "language_info": {
   "codemirror_mode": {
    "name": "ipython",
    "version": 3
   },
   "file_extension": ".py",
   "mimetype": "text/x-python",
   "name": "python",
   "nbconvert_exporter": "python",
   "pygments_lexer": "ipython3",
   "version": "3.11.5"
  }
 },
 "nbformat": 4,
 "nbformat_minor": 5
}
